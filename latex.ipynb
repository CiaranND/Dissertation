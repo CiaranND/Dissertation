{
 "cells": [
  {
   "cell_type": "code",
   "execution_count": 13,
   "metadata": {},
   "outputs": [],
   "source": [
    "#!pip install latex"
   ]
  },
  {
   "cell_type": "code",
   "execution_count": 21,
   "metadata": {},
   "outputs": [],
   "source": [
    "import latex"
   ]
  },
  {
   "cell_type": "markdown",
   "metadata": {},
   "source": [
    "$ w_i = \\dfrac{1}{N} $"
   ]
  },
  {
   "cell_type": "markdown",
   "metadata": {},
   "source": [
    "IV"
   ]
  },
  {
   "cell_type": "markdown",
   "metadata": {},
   "source": [
    "$ {σ}_i = \\sqrt{\\frac{ \\sum \\limits _{t=1} ^{T} (r_{it}-\\overline{r}_i)^2} {t}}  $ "
   ]
  },
  {
   "cell_type": "markdown",
   "metadata": {},
   "source": [
    "$ {w}_i = {\\dfrac{1/{σ}_i} {\\sum \\limits _{i=1} ^{N} 1/{σ}_j}} $"
   ]
  },
  {
   "cell_type": "markdown",
   "metadata": {},
   "source": [
    "MVP"
   ]
  },
  {
   "cell_type": "markdown",
   "metadata": {},
   "source": [
    "$ minimise \\;\\;  \\sum \\limits _{i=1} ^{N} \\sum \\limits _{j=1} ^{N} {w}_i{w}_j{σ}_{ij} \\\\ s.t. \\\\ \\sum \\limits _{i=1} ^{N} w_{i} = 1 \\\\ 0≤w_{i}≤1 \\;\\;\\;\\;\\;\\; i=1,\\:...,N $"
   ]
  },
  {
   "cell_type": "markdown",
   "metadata": {},
   "source": [
    "ERC"
   ]
  },
  {
   "cell_type": "markdown",
   "metadata": {},
   "source": [
    "$ {σ}_i = {σ}_j $"
   ]
  },
  {
   "cell_type": "markdown",
   "metadata": {},
   "source": [
    "$ minimise \\;\\;  \\sum \\limits _{i=1} ^{N} \\sum \\limits _{j=1} ^{N} {(w}_i(Σw)_i-{w}_j{(Σw)}_{j})^2 \\\\ s.t. \\\\ \\sum \\limits _{i=1} ^{N} w_{i} = 1 \\\\ 0≤w_{i}≤1 \\;\\;\\;\\;\\;\\; i=1,\\:...,N $"
   ]
  },
  {
   "cell_type": "markdown",
   "metadata": {},
   "source": [
    "PCA"
   ]
  },
  {
   "cell_type": "markdown",
   "metadata": {},
   "source": [
    "$ w_i = \\dfrac{V_i}{\\sum \\limits _{i=1} ^{N}V_i} \\;\\;\\;\\;\\;\\; i=1,\\:...,N $"
   ]
  },
  {
   "cell_type": "markdown",
   "metadata": {},
   "source": [
    "Correlation"
   ]
  },
  {
   "cell_type": "markdown",
   "metadata": {},
   "source": [
    "$ ρ_{i,j} = \\dfrac{cov(i,j)}{σ_iσ_j} $"
   ]
  },
  {
   "cell_type": "markdown",
   "metadata": {},
   "source": [
    "angular distance"
   ]
  },
  {
   "cell_type": "markdown",
   "metadata": {},
   "source": [
    "$ d_{i,j} = d(X_i,X_j) = \\sqrt{(0.5(1-ρ_{i,j})} $"
   ]
  },
  {
   "cell_type": "markdown",
   "metadata": {},
   "source": [
    "single"
   ]
  },
  {
   "cell_type": "markdown",
   "metadata": {},
   "source": [
    "$ d_{(UV)W} = min(d_{UV},d_{VW}) $"
   ]
  },
  {
   "cell_type": "markdown",
   "metadata": {},
   "source": [
    "complete"
   ]
  },
  {
   "cell_type": "markdown",
   "metadata": {},
   "source": [
    "$ d_{(UV)W} = max(d_{UV},d_{VW}) $"
   ]
  },
  {
   "cell_type": "markdown",
   "metadata": {},
   "source": [
    "average"
   ]
  },
  {
   "cell_type": "markdown",
   "metadata": {},
   "source": [
    "$ d_{(UV)W} = \\tfrac{\\sum \\limits _i \\sum \\limits _j d_{ij}} {N_{(UV)}N_{W}} $"
   ]
  },
  {
   "cell_type": "markdown",
   "metadata": {},
   "source": [
    "wards"
   ]
  },
  {
   "cell_type": "markdown",
   "metadata": {},
   "source": [
    "$ d_{(UV)W} = d(X_{(UV)},X_{W}) = |\\overline{X}_{UV}-\\overline{X}_W|^2 $"
   ]
  },
  {
   "cell_type": "markdown",
   "metadata": {},
   "source": [
    "HRP"
   ]
  },
  {
   "cell_type": "markdown",
   "metadata": {},
   "source": [
    "$ {w}_i = {\\dfrac{1/{σ_i^2}} {\\sum \\limits _{i=1} ^{N} 1/{σ_i^2}}} $"
   ]
  },
  {
   "cell_type": "markdown",
   "metadata": {},
   "source": [
    "$ σ^2_{R} = \\sum \\limits _{i=1} ^n \\sum \\limits _{j=1} ^n cov(R_i,R_j) $"
   ]
  },
  {
   "cell_type": "markdown",
   "metadata": {},
   "source": [
    "$ α_i = \\dfrac{σ^2_{left}}{σ^2_{left} + σ^2_{right}} $"
   ]
  },
  {
   "cell_type": "markdown",
   "metadata": {},
   "source": [
    "$ 1 - α_i $"
   ]
  },
  {
   "cell_type": "markdown",
   "metadata": {},
   "source": [
    "$ D_r = \\sum \\limits _{C_r(i,j)} d_{ij} $"
   ]
  },
  {
   "cell_type": "markdown",
   "metadata": {},
   "source": [
    "$ W_k = \\sum \\limits _{r=1} ^{k} \\dfrac{D_r}{2n_r} $"
   ]
  },
  {
   "cell_type": "markdown",
   "metadata": {},
   "source": [
    "$ Gap_n(k) = E^*_n[log(W_k)] - log(W_k) $"
   ]
  },
  {
   "cell_type": "markdown",
   "metadata": {},
   "source": [
    "$ k=2 $"
   ]
  },
  {
   "cell_type": "markdown",
   "metadata": {},
   "source": [
    "$ W_2 > W_1 $"
   ]
  },
  {
   "cell_type": "markdown",
   "metadata": {},
   "source": [
    "$W_3<W_2 $"
   ]
  },
  {
   "cell_type": "markdown",
   "metadata": {},
   "source": [
    "$ Gap_n(k) > Gap_n(k+1) \\;\\:∧  \\;\\:Gap_n(k) < Gap_n(k-1) \\;\\;\\;\\;\\;\\; k=2,\\:...,N$"
   ]
  },
  {
   "cell_type": "markdown",
   "metadata": {},
   "source": [
    "HCAA"
   ]
  },
  {
   "cell_type": "markdown",
   "metadata": {},
   "source": [
    "$ α_1 = \\dfrac{RC_{left}}{RC_{left} + RC_{right}} $"
   ]
  },
  {
   "cell_type": "markdown",
   "metadata": {},
   "source": [
    "$ α_2 = 1 - α_1 $"
   ]
  },
  {
   "cell_type": "markdown",
   "metadata": {},
   "source": [
    "Cumulative Return"
   ]
  },
  {
   "cell_type": "markdown",
   "metadata": {},
   "source": [
    "$ CR = \\sum \\limits _{t=1} ^{T}(1+R_t)$"
   ]
  },
  {
   "cell_type": "markdown",
   "metadata": {},
   "source": [
    "Annualised Return"
   ]
  },
  {
   "cell_type": "markdown",
   "metadata": {},
   "source": [
    "$ AR = (1 + \\overline{R}_t)^{252} - 1 $"
   ]
  },
  {
   "cell_type": "markdown",
   "metadata": {},
   "source": [
    "Annualised Volatility"
   ]
  },
  {
   "cell_type": "markdown",
   "metadata": {},
   "source": [
    "$ AV = \\overline{R_t}*\\sqrt{252} $ "
   ]
  },
  {
   "cell_type": "markdown",
   "metadata": {},
   "source": [
    "Sharpe Ratio"
   ]
  },
  {
   "cell_type": "markdown",
   "metadata": {},
   "source": [
    "$ Sharpe \\:Ratio = \\dfrac{\\overline{R}_t - r_f}{σ_t} $"
   ]
  },
  {
   "cell_type": "markdown",
   "metadata": {},
   "source": [
    "$Sortino\\: Ratio = \\dfrac{\\overline{R}_t - r_f}{{σ_{t,d}}} $"
   ]
  },
  {
   "cell_type": "markdown",
   "metadata": {},
   "source": [
    "$ MDD = \\dfrac{Trough \\:CR - Peak\\:CR}{Peak \\:CR} $"
   ]
  },
  {
   "cell_type": "markdown",
   "metadata": {},
   "source": [
    "$Calmar Ratio = \\dfrac{\\overline{R}_t - r_f}{MDD} $"
   ]
  }
 ],
 "metadata": {
  "kernelspec": {
   "display_name": "Python 3",
   "language": "python",
   "name": "python3"
  },
  "language_info": {
   "codemirror_mode": {
    "name": "ipython",
    "version": 3
   },
   "file_extension": ".py",
   "mimetype": "text/x-python",
   "name": "python",
   "nbconvert_exporter": "python",
   "pygments_lexer": "ipython3",
   "version": "3.8.5"
  }
 },
 "nbformat": 4,
 "nbformat_minor": 4
}
