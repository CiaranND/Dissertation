{
 "cells": [
  {
   "cell_type": "code",
   "execution_count": 1,
   "metadata": {},
   "outputs": [],
   "source": [
    "#pip uninstall eikon"
   ]
  },
  {
   "cell_type": "code",
   "execution_count": 2,
   "metadata": {},
   "outputs": [],
   "source": [
    "#pip install eikon"
   ]
  },
  {
   "cell_type": "code",
   "execution_count": 3,
   "metadata": {},
   "outputs": [],
   "source": [
    "#pip install httpx==0.14.2"
   ]
  },
  {
   "cell_type": "code",
   "execution_count": 1,
   "metadata": {},
   "outputs": [],
   "source": [
    "import eikon as ek\n",
    "import httpx as ht\n",
    "import pandas as pd"
   ]
  },
  {
   "cell_type": "code",
   "execution_count": 2,
   "metadata": {},
   "outputs": [
    {
     "name": "stdout",
     "output_type": "stream",
     "text": [
      "3.8.5\n"
     ]
    }
   ],
   "source": [
    "from platform import python_version\n",
    "\n",
    "print(python_version())"
   ]
  },
  {
   "cell_type": "code",
   "execution_count": 3,
   "metadata": {},
   "outputs": [
    {
     "data": {
      "text/plain": [
       "'1.1.10'"
      ]
     },
     "execution_count": 3,
     "metadata": {},
     "output_type": "execute_result"
    }
   ],
   "source": [
    "ek.__version__"
   ]
  },
  {
   "cell_type": "code",
   "execution_count": 4,
   "metadata": {},
   "outputs": [
    {
     "data": {
      "text/plain": [
       "'0.14.2'"
      ]
     },
     "execution_count": 4,
     "metadata": {},
     "output_type": "execute_result"
    }
   ],
   "source": [
    "ht.__version__"
   ]
  },
  {
   "cell_type": "code",
   "execution_count": 5,
   "metadata": {},
   "outputs": [
    {
     "name": "stderr",
     "output_type": "stream",
     "text": [
      "2021-05-20 15:30:46,605 P[10508] [MainThread 4908] Error: no proxy address identified.\n",
      "Check if Eikon Desktop or Eikon API Proxy is running.\n",
      "2021-05-20 15:30:46,606 P[10508] [MainThread 4908] Port number was not identified, cannot send any request\n",
      "2021-05-20 15:30:46,607 P[10508] [MainThread 4908] Port number was not identified.\n",
      "Check if Eikon Desktop or Eikon API Proxy is running.\n"
     ]
    },
    {
     "ename": "EikonError",
     "evalue": "Error code -1 | Port number was not identified. Check if Eikon Desktop or Eikon API Proxy is running.",
     "output_type": "error",
     "traceback": [
      "\u001b[1;31m---------------------------------------------------------------------------\u001b[0m",
      "\u001b[1;31mEikonError\u001b[0m                                Traceback (most recent call last)",
      "\u001b[1;32m<ipython-input-5-77b9e9271b4b>\u001b[0m in \u001b[0;36m<module>\u001b[1;34m\u001b[0m\n\u001b[1;32m----> 1\u001b[1;33m \u001b[0mek\u001b[0m\u001b[1;33m.\u001b[0m\u001b[0mset_app_key\u001b[0m\u001b[1;33m(\u001b[0m\u001b[1;34m'd2dd011056ca4fadb442edb053c9453b0e0f78af'\u001b[0m\u001b[1;33m)\u001b[0m\u001b[1;33m\u001b[0m\u001b[1;33m\u001b[0m\u001b[0m\n\u001b[0m",
      "\u001b[1;32m~\\anaconda3\\lib\\site-packages\\eikon\\Profile.py\u001b[0m in \u001b[0;36mset_app_key\u001b[1;34m(app_key)\u001b[0m\n\u001b[0;32m     31\u001b[0m     \u001b[0mYou\u001b[0m \u001b[0mcan\u001b[0m \u001b[0mget\u001b[0m \u001b[0man\u001b[0m \u001b[0mapp\u001b[0m \u001b[0mkey\u001b[0m \u001b[0musing\u001b[0m \u001b[0mthe\u001b[0m \u001b[0mApp\u001b[0m \u001b[0mKey\u001b[0m \u001b[0mGenerator\u001b[0m \u001b[1;33m(\u001b[0m\u001b[0mthis\u001b[0m \u001b[0mApp\u001b[0m \u001b[1;32mis\u001b[0m \u001b[0mavailable\u001b[0m \u001b[1;32min\u001b[0m \u001b[0mEikon\u001b[0m \u001b[0mDesktop\u001b[0m\u001b[1;33m)\u001b[0m\u001b[1;33m.\u001b[0m\u001b[1;33m\u001b[0m\u001b[1;33m\u001b[0m\u001b[0m\n\u001b[0;32m     32\u001b[0m     \"\"\"\n\u001b[1;32m---> 33\u001b[1;33m     \u001b[0mget_profile\u001b[0m\u001b[1;33m(\u001b[0m\u001b[1;33m)\u001b[0m\u001b[1;33m.\u001b[0m\u001b[0mset_app_key\u001b[0m\u001b[1;33m(\u001b[0m\u001b[0mapp_key\u001b[0m\u001b[1;33m)\u001b[0m\u001b[1;33m\u001b[0m\u001b[1;33m\u001b[0m\u001b[0m\n\u001b[0m\u001b[0;32m     34\u001b[0m \u001b[1;33m\u001b[0m\u001b[0m\n\u001b[0;32m     35\u001b[0m \u001b[1;33m\u001b[0m\u001b[0m\n",
      "\u001b[1;32m~\\anaconda3\\lib\\site-packages\\eikon\\Profile.py\u001b[0m in \u001b[0;36mset_app_key\u001b[1;34m(self, app_key)\u001b[0m\n\u001b[0;32m    229\u001b[0m             \u001b[0mself\u001b[0m\u001b[1;33m.\u001b[0m\u001b[0mlogger\u001b[0m \u001b[1;33m=\u001b[0m \u001b[0mself\u001b[0m\u001b[1;33m.\u001b[0m\u001b[0m_desktop_session\u001b[0m\u001b[1;33m.\u001b[0m\u001b[0mlogger\u001b[0m\u001b[1;33m(\u001b[0m\u001b[1;33m)\u001b[0m\u001b[1;33m\u001b[0m\u001b[1;33m\u001b[0m\u001b[0m\n\u001b[0;32m    230\u001b[0m             \u001b[0mself\u001b[0m\u001b[1;33m.\u001b[0m\u001b[0mlogger\u001b[0m\u001b[1;33m.\u001b[0m\u001b[0mdebug\u001b[0m\u001b[1;33m(\u001b[0m\u001b[1;34m'Init a Desktop session with new app_key'\u001b[0m\u001b[1;33m)\u001b[0m\u001b[1;33m\u001b[0m\u001b[1;33m\u001b[0m\u001b[0m\n\u001b[1;32m--> 231\u001b[1;33m             \u001b[0mself\u001b[0m\u001b[1;33m.\u001b[0m\u001b[0mcheck_profile\u001b[0m\u001b[1;33m(\u001b[0m\u001b[1;33m)\u001b[0m\u001b[1;33m\u001b[0m\u001b[1;33m\u001b[0m\u001b[0m\n\u001b[0m\u001b[0;32m    232\u001b[0m \u001b[1;33m\u001b[0m\u001b[0m\n\u001b[0;32m    233\u001b[0m     \u001b[1;32mdef\u001b[0m \u001b[0mset_on_state_callback\u001b[0m\u001b[1;33m(\u001b[0m\u001b[0mself\u001b[0m\u001b[1;33m,\u001b[0m \u001b[0mon_state\u001b[0m\u001b[1;33m)\u001b[0m\u001b[1;33m:\u001b[0m\u001b[1;33m\u001b[0m\u001b[1;33m\u001b[0m\u001b[0m\n",
      "\u001b[1;32m~\\anaconda3\\lib\\site-packages\\eikon\\Profile.py\u001b[0m in \u001b[0;36mcheck_profile\u001b[1;34m(self)\u001b[0m\n\u001b[0;32m    352\u001b[0m             \u001b[1;31m# port number wasn't identified => raise EikonError exception\u001b[0m\u001b[1;33m\u001b[0m\u001b[1;33m\u001b[0m\u001b[1;33m\u001b[0m\u001b[0m\n\u001b[0;32m    353\u001b[0m             \u001b[0mself\u001b[0m\u001b[1;33m.\u001b[0m\u001b[0mlogger\u001b[0m\u001b[1;33m.\u001b[0m\u001b[0merror\u001b[0m\u001b[1;33m(\u001b[0m\u001b[1;34m'Port number was not identified.\\nCheck if Eikon Desktop or Eikon API Proxy is running.'\u001b[0m\u001b[1;33m)\u001b[0m\u001b[1;33m\u001b[0m\u001b[1;33m\u001b[0m\u001b[0m\n\u001b[1;32m--> 354\u001b[1;33m             \u001b[1;32mraise\u001b[0m \u001b[0mEikonError\u001b[0m\u001b[1;33m(\u001b[0m\u001b[1;33m-\u001b[0m\u001b[1;36m1\u001b[0m\u001b[1;33m,\u001b[0m \u001b[1;34m'Port number was not identified. Check if Eikon Desktop or Eikon API Proxy is running.'\u001b[0m\u001b[1;33m)\u001b[0m\u001b[1;33m\u001b[0m\u001b[1;33m\u001b[0m\u001b[0m\n\u001b[0m\u001b[0;32m    355\u001b[0m \u001b[1;33m\u001b[0m\u001b[0m\n\u001b[0;32m    356\u001b[0m     \u001b[1;32mdef\u001b[0m \u001b[0msend_request\u001b[0m\u001b[1;33m(\u001b[0m\u001b[0mself\u001b[0m\u001b[1;33m,\u001b[0m \u001b[0mjson\u001b[0m\u001b[1;33m,\u001b[0m \u001b[0mtimeout\u001b[0m\u001b[1;33m=\u001b[0m\u001b[1;32mNone\u001b[0m\u001b[1;33m)\u001b[0m\u001b[1;33m:\u001b[0m\u001b[1;33m\u001b[0m\u001b[1;33m\u001b[0m\u001b[0m\n",
      "\u001b[1;31mEikonError\u001b[0m: Error code -1 | Port number was not identified. Check if Eikon Desktop or Eikon API Proxy is running."
     ]
    }
   ],
   "source": [
    "ek.set_app_key('d2dd011056ca4fadb442edb053c9453b0e0f78af')"
   ]
  },
  {
   "cell_type": "code",
   "execution_count": null,
   "metadata": {},
   "outputs": [],
   "source": [
    "# start_date = '2000-01-01'\n",
    "# end_date = '2021-05-11'"
   ]
  },
  {
   "cell_type": "code",
   "execution_count": null,
   "metadata": {},
   "outputs": [],
   "source": [
    "securities = ['601988.SS', '6758.T', '005930.KS', 'PG', 'SCHN.PA', 'VOWG_p.DE', 'WMT', 'BHPB.L', 'SAPG.DE', 'MDT', 'KO', 'BABA.K', 'RDSa.AS', 'BASFn.DE', 'SASY.PA', 'VOD.L', 'RTX']\n",
    "data, err = ek.get_data(securities, ['TR.ClosePrice.Date', 'TR.ClosePrice'], {'Sdate': '1990-01-01', 'EDate': '2021-05-11'})\n",
    "#data = data.dropna()"
   ]
  },
  {
   "cell_type": "code",
   "execution_count": null,
   "metadata": {},
   "outputs": [],
   "source": [
    "data"
   ]
  },
  {
   "cell_type": "code",
   "execution_count": 117,
   "metadata": {},
   "outputs": [
    {
     "data": {
      "text/html": [
       "<div>\n",
       "<style scoped>\n",
       "    .dataframe tbody tr th:only-of-type {\n",
       "        vertical-align: middle;\n",
       "    }\n",
       "\n",
       "    .dataframe tbody tr th {\n",
       "        vertical-align: top;\n",
       "    }\n",
       "\n",
       "    .dataframe thead th {\n",
       "        text-align: right;\n",
       "    }\n",
       "</style>\n",
       "<table border=\"1\" class=\"dataframe\">\n",
       "  <thead>\n",
       "    <tr style=\"text-align: right;\">\n",
       "      <th>Instrument</th>\n",
       "      <th>005930.KS</th>\n",
       "      <th>601988.SS</th>\n",
       "      <th>6758.T</th>\n",
       "      <th>BABA.K</th>\n",
       "      <th>BASFn.DE</th>\n",
       "      <th>BHPB.L</th>\n",
       "      <th>KO</th>\n",
       "      <th>MDT</th>\n",
       "      <th>PG</th>\n",
       "      <th>RDSa.AS</th>\n",
       "      <th>RTX</th>\n",
       "      <th>SAPG.DE</th>\n",
       "      <th>SASY.PA</th>\n",
       "      <th>SCHN.PA</th>\n",
       "      <th>VOD.L</th>\n",
       "      <th>VOWG_p.DE</th>\n",
       "      <th>WMT</th>\n",
       "    </tr>\n",
       "    <tr>\n",
       "      <th>Date</th>\n",
       "      <th></th>\n",
       "      <th></th>\n",
       "      <th></th>\n",
       "      <th></th>\n",
       "      <th></th>\n",
       "      <th></th>\n",
       "      <th></th>\n",
       "      <th></th>\n",
       "      <th></th>\n",
       "      <th></th>\n",
       "      <th></th>\n",
       "      <th></th>\n",
       "      <th></th>\n",
       "      <th></th>\n",
       "      <th></th>\n",
       "      <th></th>\n",
       "      <th></th>\n",
       "    </tr>\n",
       "  </thead>\n",
       "  <tbody>\n",
       "    <tr>\n",
       "      <th>1990-01-02T00:00:00Z</th>\n",
       "      <td>NaN</td>\n",
       "      <td>NaN</td>\n",
       "      <td>NaN</td>\n",
       "      <td>NaN</td>\n",
       "      <td>NaN</td>\n",
       "      <td>NaN</td>\n",
       "      <td>4.87500</td>\n",
       "      <td>2.046875</td>\n",
       "      <td>8.745084</td>\n",
       "      <td>8.423295</td>\n",
       "      <td>4.091839</td>\n",
       "      <td>NaN</td>\n",
       "      <td>9.831230</td>\n",
       "      <td>17.836910</td>\n",
       "      <td>26.772856</td>\n",
       "      <td>NaN</td>\n",
       "      <td>5.89075</td>\n",
       "    </tr>\n",
       "    <tr>\n",
       "      <th>1990-01-03T00:00:00Z</th>\n",
       "      <td>463.404554</td>\n",
       "      <td>NaN</td>\n",
       "      <td>NaN</td>\n",
       "      <td>NaN</td>\n",
       "      <td>NaN</td>\n",
       "      <td>NaN</td>\n",
       "      <td>4.80475</td>\n",
       "      <td>2.054688</td>\n",
       "      <td>8.729579</td>\n",
       "      <td>8.536740</td>\n",
       "      <td>4.045760</td>\n",
       "      <td>NaN</td>\n",
       "      <td>9.735950</td>\n",
       "      <td>17.874621</td>\n",
       "      <td>27.106682</td>\n",
       "      <td>NaN</td>\n",
       "      <td>5.89075</td>\n",
       "    </tr>\n",
       "    <tr>\n",
       "      <th>1990-01-04T00:00:00Z</th>\n",
       "      <td>468.576480</td>\n",
       "      <td>NaN</td>\n",
       "      <td>NaN</td>\n",
       "      <td>NaN</td>\n",
       "      <td>NaN</td>\n",
       "      <td>NaN</td>\n",
       "      <td>4.78125</td>\n",
       "      <td>2.105500</td>\n",
       "      <td>8.559019</td>\n",
       "      <td>8.360900</td>\n",
       "      <td>4.036544</td>\n",
       "      <td>NaN</td>\n",
       "      <td>9.891863</td>\n",
       "      <td>18.006606</td>\n",
       "      <td>26.706091</td>\n",
       "      <td>NaN</td>\n",
       "      <td>5.85950</td>\n",
       "    </tr>\n",
       "    <tr>\n",
       "      <th>1990-01-05T00:00:00Z</th>\n",
       "      <td>458.232628</td>\n",
       "      <td>NaN</td>\n",
       "      <td>NaN</td>\n",
       "      <td>NaN</td>\n",
       "      <td>NaN</td>\n",
       "      <td>NaN</td>\n",
       "      <td>4.74225</td>\n",
       "      <td>2.148438</td>\n",
       "      <td>8.403964</td>\n",
       "      <td>8.224766</td>\n",
       "      <td>4.036544</td>\n",
       "      <td>NaN</td>\n",
       "      <td>9.839892</td>\n",
       "      <td>18.044316</td>\n",
       "      <td>26.372265</td>\n",
       "      <td>NaN</td>\n",
       "      <td>5.79700</td>\n",
       "    </tr>\n",
       "    <tr>\n",
       "      <th>1990-01-06T00:00:00Z</th>\n",
       "      <td>460.301399</td>\n",
       "      <td>NaN</td>\n",
       "      <td>NaN</td>\n",
       "      <td>NaN</td>\n",
       "      <td>NaN</td>\n",
       "      <td>NaN</td>\n",
       "      <td>NaN</td>\n",
       "      <td>NaN</td>\n",
       "      <td>NaN</td>\n",
       "      <td>NaN</td>\n",
       "      <td>NaN</td>\n",
       "      <td>NaN</td>\n",
       "      <td>NaN</td>\n",
       "      <td>NaN</td>\n",
       "      <td>NaN</td>\n",
       "      <td>NaN</td>\n",
       "      <td>NaN</td>\n",
       "    </tr>\n",
       "    <tr>\n",
       "      <th>...</th>\n",
       "      <td>...</td>\n",
       "      <td>...</td>\n",
       "      <td>...</td>\n",
       "      <td>...</td>\n",
       "      <td>...</td>\n",
       "      <td>...</td>\n",
       "      <td>...</td>\n",
       "      <td>...</td>\n",
       "      <td>...</td>\n",
       "      <td>...</td>\n",
       "      <td>...</td>\n",
       "      <td>...</td>\n",
       "      <td>...</td>\n",
       "      <td>...</td>\n",
       "      <td>...</td>\n",
       "      <td>...</td>\n",
       "      <td>...</td>\n",
       "    </tr>\n",
       "    <tr>\n",
       "      <th>2021-05-05T00:00:00Z</th>\n",
       "      <td>NaN</td>\n",
       "      <td>NaN</td>\n",
       "      <td>NaN</td>\n",
       "      <td>226.78</td>\n",
       "      <td>69.36</td>\n",
       "      <td>2306.0</td>\n",
       "      <td>54.00000</td>\n",
       "      <td>127.000000</td>\n",
       "      <td>133.460000</td>\n",
       "      <td>16.494000</td>\n",
       "      <td>84.130000</td>\n",
       "      <td>115.84</td>\n",
       "      <td>84.590000</td>\n",
       "      <td>134.540000</td>\n",
       "      <td>140.540000</td>\n",
       "      <td>218.00</td>\n",
       "      <td>140.60000</td>\n",
       "    </tr>\n",
       "    <tr>\n",
       "      <th>2021-05-06T00:00:00Z</th>\n",
       "      <td>82300.000000</td>\n",
       "      <td>3.26</td>\n",
       "      <td>10715.0</td>\n",
       "      <td>226.42</td>\n",
       "      <td>70.22</td>\n",
       "      <td>2314.0</td>\n",
       "      <td>54.54000</td>\n",
       "      <td>127.300000</td>\n",
       "      <td>135.140000</td>\n",
       "      <td>16.510000</td>\n",
       "      <td>84.680000</td>\n",
       "      <td>116.42</td>\n",
       "      <td>84.300000</td>\n",
       "      <td>134.180000</td>\n",
       "      <td>142.020000</td>\n",
       "      <td>212.40</td>\n",
       "      <td>141.05000</td>\n",
       "    </tr>\n",
       "    <tr>\n",
       "      <th>2021-05-07T00:00:00Z</th>\n",
       "      <td>81900.000000</td>\n",
       "      <td>3.28</td>\n",
       "      <td>10470.0</td>\n",
       "      <td>225.31</td>\n",
       "      <td>70.38</td>\n",
       "      <td>2337.5</td>\n",
       "      <td>54.51000</td>\n",
       "      <td>126.700000</td>\n",
       "      <td>135.150000</td>\n",
       "      <td>16.612000</td>\n",
       "      <td>85.710000</td>\n",
       "      <td>117.36</td>\n",
       "      <td>85.440000</td>\n",
       "      <td>134.960000</td>\n",
       "      <td>141.820000</td>\n",
       "      <td>210.75</td>\n",
       "      <td>140.20000</td>\n",
       "    </tr>\n",
       "    <tr>\n",
       "      <th>2021-05-10T00:00:00Z</th>\n",
       "      <td>83200.000000</td>\n",
       "      <td>3.26</td>\n",
       "      <td>10780.0</td>\n",
       "      <td>219.53</td>\n",
       "      <td>70.76</td>\n",
       "      <td>2375.5</td>\n",
       "      <td>54.91000</td>\n",
       "      <td>126.900000</td>\n",
       "      <td>137.670000</td>\n",
       "      <td>16.650000</td>\n",
       "      <td>85.040000</td>\n",
       "      <td>115.60</td>\n",
       "      <td>86.370000</td>\n",
       "      <td>130.920000</td>\n",
       "      <td>142.420000</td>\n",
       "      <td>211.90</td>\n",
       "      <td>140.82000</td>\n",
       "    </tr>\n",
       "    <tr>\n",
       "      <th>2021-05-11T00:00:00Z</th>\n",
       "      <td>81200.000000</td>\n",
       "      <td>3.27</td>\n",
       "      <td>10400.0</td>\n",
       "      <td>221.38</td>\n",
       "      <td>69.25</td>\n",
       "      <td>2329.5</td>\n",
       "      <td>54.32000</td>\n",
       "      <td>125.220000</td>\n",
       "      <td>136.990000</td>\n",
       "      <td>16.048000</td>\n",
       "      <td>84.330000</td>\n",
       "      <td>113.26</td>\n",
       "      <td>85.150000</td>\n",
       "      <td>129.020000</td>\n",
       "      <td>138.900000</td>\n",
       "      <td>208.80</td>\n",
       "      <td>139.55000</td>\n",
       "    </tr>\n",
       "  </tbody>\n",
       "</table>\n",
       "<p>8559 rows × 17 columns</p>\n",
       "</div>"
      ],
      "text/plain": [
       "Instrument               005930.KS  601988.SS   6758.T  BABA.K  BASFn.DE  \\\n",
       "Date                                                                       \n",
       "1990-01-02T00:00:00Z           NaN        NaN      NaN     NaN       NaN   \n",
       "1990-01-03T00:00:00Z    463.404554        NaN      NaN     NaN       NaN   \n",
       "1990-01-04T00:00:00Z    468.576480        NaN      NaN     NaN       NaN   \n",
       "1990-01-05T00:00:00Z    458.232628        NaN      NaN     NaN       NaN   \n",
       "1990-01-06T00:00:00Z    460.301399        NaN      NaN     NaN       NaN   \n",
       "...                            ...        ...      ...     ...       ...   \n",
       "2021-05-05T00:00:00Z           NaN        NaN      NaN  226.78     69.36   \n",
       "2021-05-06T00:00:00Z  82300.000000       3.26  10715.0  226.42     70.22   \n",
       "2021-05-07T00:00:00Z  81900.000000       3.28  10470.0  225.31     70.38   \n",
       "2021-05-10T00:00:00Z  83200.000000       3.26  10780.0  219.53     70.76   \n",
       "2021-05-11T00:00:00Z  81200.000000       3.27  10400.0  221.38     69.25   \n",
       "\n",
       "Instrument            BHPB.L        KO         MDT          PG    RDSa.AS  \\\n",
       "Date                                                                        \n",
       "1990-01-02T00:00:00Z     NaN   4.87500    2.046875    8.745084   8.423295   \n",
       "1990-01-03T00:00:00Z     NaN   4.80475    2.054688    8.729579   8.536740   \n",
       "1990-01-04T00:00:00Z     NaN   4.78125    2.105500    8.559019   8.360900   \n",
       "1990-01-05T00:00:00Z     NaN   4.74225    2.148438    8.403964   8.224766   \n",
       "1990-01-06T00:00:00Z     NaN       NaN         NaN         NaN        NaN   \n",
       "...                      ...       ...         ...         ...        ...   \n",
       "2021-05-05T00:00:00Z  2306.0  54.00000  127.000000  133.460000  16.494000   \n",
       "2021-05-06T00:00:00Z  2314.0  54.54000  127.300000  135.140000  16.510000   \n",
       "2021-05-07T00:00:00Z  2337.5  54.51000  126.700000  135.150000  16.612000   \n",
       "2021-05-10T00:00:00Z  2375.5  54.91000  126.900000  137.670000  16.650000   \n",
       "2021-05-11T00:00:00Z  2329.5  54.32000  125.220000  136.990000  16.048000   \n",
       "\n",
       "Instrument                  RTX  SAPG.DE    SASY.PA     SCHN.PA       VOD.L  \\\n",
       "Date                                                                          \n",
       "1990-01-02T00:00:00Z   4.091839      NaN   9.831230   17.836910   26.772856   \n",
       "1990-01-03T00:00:00Z   4.045760      NaN   9.735950   17.874621   27.106682   \n",
       "1990-01-04T00:00:00Z   4.036544      NaN   9.891863   18.006606   26.706091   \n",
       "1990-01-05T00:00:00Z   4.036544      NaN   9.839892   18.044316   26.372265   \n",
       "1990-01-06T00:00:00Z        NaN      NaN        NaN         NaN         NaN   \n",
       "...                         ...      ...        ...         ...         ...   \n",
       "2021-05-05T00:00:00Z  84.130000   115.84  84.590000  134.540000  140.540000   \n",
       "2021-05-06T00:00:00Z  84.680000   116.42  84.300000  134.180000  142.020000   \n",
       "2021-05-07T00:00:00Z  85.710000   117.36  85.440000  134.960000  141.820000   \n",
       "2021-05-10T00:00:00Z  85.040000   115.60  86.370000  130.920000  142.420000   \n",
       "2021-05-11T00:00:00Z  84.330000   113.26  85.150000  129.020000  138.900000   \n",
       "\n",
       "Instrument            VOWG_p.DE        WMT  \n",
       "Date                                        \n",
       "1990-01-02T00:00:00Z        NaN    5.89075  \n",
       "1990-01-03T00:00:00Z        NaN    5.89075  \n",
       "1990-01-04T00:00:00Z        NaN    5.85950  \n",
       "1990-01-05T00:00:00Z        NaN    5.79700  \n",
       "1990-01-06T00:00:00Z        NaN        NaN  \n",
       "...                         ...        ...  \n",
       "2021-05-05T00:00:00Z     218.00  140.60000  \n",
       "2021-05-06T00:00:00Z     212.40  141.05000  \n",
       "2021-05-07T00:00:00Z     210.75  140.20000  \n",
       "2021-05-10T00:00:00Z     211.90  140.82000  \n",
       "2021-05-11T00:00:00Z     208.80  139.55000  \n",
       "\n",
       "[8559 rows x 17 columns]"
      ]
     },
     "execution_count": 117,
     "metadata": {},
     "output_type": "execute_result"
    }
   ],
   "source": [
    "data = data.pivot_table(values='Close Price', index=data.Date, columns='Instrument', aggfunc='first')\n",
    "data"
   ]
  },
  {
   "cell_type": "code",
   "execution_count": 118,
   "metadata": {},
   "outputs": [],
   "source": [
    "data.to_csv(\"eikon.csv\")"
   ]
  },
  {
   "cell_type": "code",
   "execution_count": 121,
   "metadata": {},
   "outputs": [
    {
     "data": {
      "image/png": "[encoded data removed]",
      "text/plain": [
       "<Figure size 1800x720 with 2 Axes>"
      ]
     },
     "metadata": {
      "needs_background": "light"
     },
     "output_type": "display_data"
    }
   ],
   "source": [
    "import missingno as msno\n",
    "msno.matrix(data);"
   ]
  },
  {
   "cell_type": "code",
   "execution_count": 122,
   "metadata": {},
   "outputs": [
    {
     "data": {
      "text/plain": [
       "Instrument\n",
       "005930.KS     427\n",
       "601988.SS    4963\n",
       "6758.T       6651\n",
       "BABA.K       6887\n",
       "BASFn.DE      953\n",
       "BHPB.L       2544\n",
       "KO            658\n",
       "MDT           658\n",
       "PG            658\n",
       "RDSa.AS       568\n",
       "RTX           658\n",
       "SAPG.DE      1953\n",
       "SASY.PA       604\n",
       "SCHN.PA       604\n",
       "VOD.L         636\n",
       "VOWG_p.DE    1395\n",
       "WMT           658\n",
       "dtype: int64"
      ]
     },
     "execution_count": 122,
     "metadata": {},
     "output_type": "execute_result"
    }
   ],
   "source": [
    "data.isnull().sum()"
   ]
  }
 ],
 "metadata": {
  "kernelspec": {
   "display_name": "Python 3",
   "language": "python",
   "name": "python3"
  },
  "language_info": {
   "codemirror_mode": {
    "name": "ipython",
    "version": 3
   },
   "file_extension": ".py",
   "mimetype": "text/x-python",
   "name": "python",
   "nbconvert_exporter": "python",
   "pygments_lexer": "ipython3",
   "version": "3.8.5"
  }
 },
 "nbformat": 4,
 "nbformat_minor": 4
}
